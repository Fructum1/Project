{
  "nbformat": 4,
  "nbformat_minor": 0,
  "metadata": {
    "colab": {
      "name": "Pet project.ipynb",
      "provenance": [],
      "collapsed_sections": [
        "CdVlGvWGlR2i"
      ],
      "authorship_tag": "ABX9TyPtJttSzHXF5sxEoyXnQi+G",
      "include_colab_link": true
    },
    "kernelspec": {
      "name": "python3",
      "display_name": "Python 3"
    }
  },
  "cells": [
    {
      "cell_type": "markdown",
      "metadata": {
        "id": "view-in-github",
        "colab_type": "text"
      },
      "source": [
        "<a href=\"https://colab.research.google.com/github/Fructum1/Project/blob/main/Pet_project.ipynb\" target=\"_parent\"><img src=\"https://colab.research.google.com/assets/colab-badge.svg\" alt=\"Open In Colab\"/></a>"
      ]
    },
    {
      "cell_type": "markdown",
      "metadata": {
        "id": "mChPDtRklHQr"
      },
      "source": [
        "#Importlibrary\r\n"
      ]
    },
    {
      "cell_type": "code",
      "metadata": {
        "id": "gm-eQvmHjfL4"
      },
      "source": [
        "import pandas as pd\r\n",
        "import numpy as np\r\n",
        "from IPython.display import display"
      ],
      "execution_count": 13,
      "outputs": []
    },
    {
      "cell_type": "markdown",
      "metadata": {
        "id": "CdVlGvWGlR2i"
      },
      "source": [
        "#ImportData"
      ]
    },
    {
      "cell_type": "code",
      "metadata": {
        "colab": {
          "base_uri": "https://localhost:8080/"
        },
        "id": "ZWiz9mjElFoL",
        "outputId": "cc6de59f-2655-4569-cb35-f9df8c4bbaab"
      },
      "source": [
        "data = pd.read_csv(\"https://archive.ics.uci.edu/ml/machine-learning-databases/glass/glass.data\",header=None)\r\n",
        "names = [\"ID number\", \"RI\",\"Na\",\"Mg\",\"Al\",\"Si\",\"K\",\"Ca\",\"Ba\",\"Fe\",\"Type of glass\"]\r\n",
        "data.columns = names\r\n",
        "print(data)"
      ],
      "execution_count": 6,
      "outputs": [
        {
          "output_type": "stream",
          "text": [
            "     ID number       RI     Na    Mg  ...    Ca    Ba   Fe  Type of glass\n",
            "0            1  1.52101  13.64  4.49  ...  8.75  0.00  0.0              1\n",
            "1            2  1.51761  13.89  3.60  ...  7.83  0.00  0.0              1\n",
            "2            3  1.51618  13.53  3.55  ...  7.78  0.00  0.0              1\n",
            "3            4  1.51766  13.21  3.69  ...  8.22  0.00  0.0              1\n",
            "4            5  1.51742  13.27  3.62  ...  8.07  0.00  0.0              1\n",
            "..         ...      ...    ...   ...  ...   ...   ...  ...            ...\n",
            "209        210  1.51623  14.14  0.00  ...  9.18  1.06  0.0              7\n",
            "210        211  1.51685  14.92  0.00  ...  8.40  1.59  0.0              7\n",
            "211        212  1.52065  14.36  0.00  ...  8.44  1.64  0.0              7\n",
            "212        213  1.51651  14.38  0.00  ...  8.48  1.57  0.0              7\n",
            "213        214  1.51711  14.23  0.00  ...  8.62  1.67  0.0              7\n",
            "\n",
            "[214 rows x 11 columns]\n"
          ],
          "name": "stdout"
        }
      ]
    },
    {
      "cell_type": "code",
      "metadata": {
        "colab": {
          "base_uri": "https://localhost:8080/"
        },
        "id": "PiISzUUip1p-",
        "outputId": "5f43b9ac-9906-4f61-a7a0-656e1e033bf7"
      },
      "source": [
        "data['Type of glass'].replace(\r\n",
        "    {\r\n",
        "        1: \"building_windows_float_processed\",\r\n",
        "        2: \"building_windows_non_float_processed\",\r\n",
        "        3: \"vehicle_windows_float_processed\",\r\n",
        "        4: \"vehicle_windows_non_float_processed\",\r\n",
        "        5: \"containers\",\r\n",
        "        6: \"tableware\",\r\n",
        "        7: \"headlamps\"\r\n",
        "    }, inplace=True\r\n",
        ")"
      ],
      "execution_count": 10,
      "outputs": [
        {
          "output_type": "stream",
          "text": [
            "     ID number       RI     Na  ...    Ba   Fe                     Type of glass\n",
            "0            1  1.52101  13.64  ...  0.00  0.0  building_windows_float_processed\n",
            "1            2  1.51761  13.89  ...  0.00  0.0  building_windows_float_processed\n",
            "2            3  1.51618  13.53  ...  0.00  0.0  building_windows_float_processed\n",
            "3            4  1.51766  13.21  ...  0.00  0.0  building_windows_float_processed\n",
            "4            5  1.51742  13.27  ...  0.00  0.0  building_windows_float_processed\n",
            "..         ...      ...    ...  ...   ...  ...                               ...\n",
            "209        210  1.51623  14.14  ...  1.06  0.0                         headlamps\n",
            "210        211  1.51685  14.92  ...  1.59  0.0                         headlamps\n",
            "211        212  1.52065  14.36  ...  1.64  0.0                         headlamps\n",
            "212        213  1.51651  14.38  ...  1.57  0.0                         headlamps\n",
            "213        214  1.51711  14.23  ...  1.67  0.0                         headlamps\n",
            "\n",
            "[214 rows x 11 columns]\n"
          ],
          "name": "stdout"
        }
      ]
    },
    {
      "cell_type": "code",
      "metadata": {
        "colab": {
          "base_uri": "https://localhost:8080/"
        },
        "id": "khG1H0pwrNVv",
        "outputId": "12f0b5a7-bd8d-4a9a-808c-8e066567e23e"
      },
      "source": [
        "for col in data.columns:\r\n",
        "  fr = np.random.randint(5,10)/100\r\n",
        "  data.loc[data.sample(frac=fr).index, col] = np.nan\r\n",
        "print(data)"
      ],
      "execution_count": 18,
      "outputs": [
        {
          "output_type": "stream",
          "text": [
            "     ID number       RI     Na  ...    Ba   Fe                     Type of glass\n",
            "0          1.0  1.52101  13.64  ...  0.00  0.0  building_windows_float_processed\n",
            "1          2.0  1.51761  13.89  ...  0.00  0.0  building_windows_float_processed\n",
            "2          3.0      NaN  13.53  ...  0.00  0.0                               NaN\n",
            "3          NaN  1.51766  13.21  ...  0.00  0.0  building_windows_float_processed\n",
            "4          5.0  1.51742    NaN  ...  0.00  0.0  building_windows_float_processed\n",
            "..         ...      ...    ...  ...   ...  ...                               ...\n",
            "209      210.0  1.51623  14.14  ...  1.06  0.0                         headlamps\n",
            "210      211.0  1.51685  14.92  ...  1.59  NaN                         headlamps\n",
            "211      212.0  1.52065    NaN  ...  1.64  0.0                         headlamps\n",
            "212      213.0  1.51651  14.38  ...  1.57  0.0                               NaN\n",
            "213      214.0  1.51711  14.23  ...   NaN  0.0                         headlamps\n",
            "\n",
            "[214 rows x 11 columns]\n"
          ],
          "name": "stdout"
        }
      ]
    },
    {
      "cell_type": "markdown",
      "metadata": {
        "id": "S03YayYxtGX6"
      },
      "source": [
        "#DataVizualize"
      ]
    },
    {
      "cell_type": "code",
      "metadata": {
        "colab": {
          "base_uri": "https://localhost:8080/"
        },
        "id": "1gKN4EB5tI5G",
        "outputId": "4ece522b-6258-4c12-d6b5-681607f8d6d7"
      },
      "source": [
        "data.info()"
      ],
      "execution_count": 19,
      "outputs": [
        {
          "output_type": "stream",
          "text": [
            "<class 'pandas.core.frame.DataFrame'>\n",
            "RangeIndex: 214 entries, 0 to 213\n",
            "Data columns (total 11 columns):\n",
            " #   Column         Non-Null Count  Dtype  \n",
            "---  ------         --------------  -----  \n",
            " 0   ID number      181 non-null    float64\n",
            " 1   RI             181 non-null    float64\n",
            " 2   Na             190 non-null    float64\n",
            " 3   Mg             189 non-null    float64\n",
            " 4   Al             186 non-null    float64\n",
            " 5   Si             189 non-null    float64\n",
            " 6   K              186 non-null    float64\n",
            " 7   Ca             181 non-null    float64\n",
            " 8   Ba             190 non-null    float64\n",
            " 9   Fe             184 non-null    float64\n",
            " 10  Type of glass  179 non-null    object \n",
            "dtypes: float64(10), object(1)\n",
            "memory usage: 18.5+ KB\n"
          ],
          "name": "stdout"
        }
      ]
    },
    {
      "cell_type": "code",
      "metadata": {
        "colab": {
          "base_uri": "https://localhost:8080/",
          "height": 300
        },
        "id": "giL8P-Diu5W6",
        "outputId": "631d0324-c3a4-4a2b-d4ff-77edd0023060"
      },
      "source": [
        "data.describe()"
      ],
      "execution_count": 20,
      "outputs": [
        {
          "output_type": "execute_result",
          "data": {
            "text/html": [
              "<div>\n",
              "<style scoped>\n",
              "    .dataframe tbody tr th:only-of-type {\n",
              "        vertical-align: middle;\n",
              "    }\n",
              "\n",
              "    .dataframe tbody tr th {\n",
              "        vertical-align: top;\n",
              "    }\n",
              "\n",
              "    .dataframe thead th {\n",
              "        text-align: right;\n",
              "    }\n",
              "</style>\n",
              "<table border=\"1\" class=\"dataframe\">\n",
              "  <thead>\n",
              "    <tr style=\"text-align: right;\">\n",
              "      <th></th>\n",
              "      <th>ID number</th>\n",
              "      <th>RI</th>\n",
              "      <th>Na</th>\n",
              "      <th>Mg</th>\n",
              "      <th>Al</th>\n",
              "      <th>Si</th>\n",
              "      <th>K</th>\n",
              "      <th>Ca</th>\n",
              "      <th>Ba</th>\n",
              "      <th>Fe</th>\n",
              "    </tr>\n",
              "  </thead>\n",
              "  <tbody>\n",
              "    <tr>\n",
              "      <th>count</th>\n",
              "      <td>181.000000</td>\n",
              "      <td>181.000000</td>\n",
              "      <td>190.000000</td>\n",
              "      <td>189.000000</td>\n",
              "      <td>186.000000</td>\n",
              "      <td>189.000000</td>\n",
              "      <td>186.000000</td>\n",
              "      <td>181.00000</td>\n",
              "      <td>190.000000</td>\n",
              "      <td>184.000000</td>\n",
              "    </tr>\n",
              "    <tr>\n",
              "      <th>mean</th>\n",
              "      <td>105.872928</td>\n",
              "      <td>1.518376</td>\n",
              "      <td>13.411211</td>\n",
              "      <td>2.693069</td>\n",
              "      <td>1.423333</td>\n",
              "      <td>72.650741</td>\n",
              "      <td>0.518710</td>\n",
              "      <td>8.96011</td>\n",
              "      <td>0.165632</td>\n",
              "      <td>0.059293</td>\n",
              "    </tr>\n",
              "    <tr>\n",
              "      <th>std</th>\n",
              "      <td>62.777830</td>\n",
              "      <td>0.003131</td>\n",
              "      <td>0.832024</td>\n",
              "      <td>1.431660</td>\n",
              "      <td>0.480004</td>\n",
              "      <td>0.767276</td>\n",
              "      <td>0.686814</td>\n",
              "      <td>1.44354</td>\n",
              "      <td>0.471541</td>\n",
              "      <td>0.099414</td>\n",
              "    </tr>\n",
              "    <tr>\n",
              "      <th>min</th>\n",
              "      <td>1.000000</td>\n",
              "      <td>1.511150</td>\n",
              "      <td>10.730000</td>\n",
              "      <td>0.000000</td>\n",
              "      <td>0.340000</td>\n",
              "      <td>69.810000</td>\n",
              "      <td>0.000000</td>\n",
              "      <td>5.43000</td>\n",
              "      <td>0.000000</td>\n",
              "      <td>0.000000</td>\n",
              "    </tr>\n",
              "    <tr>\n",
              "      <th>25%</th>\n",
              "      <td>52.000000</td>\n",
              "      <td>1.516520</td>\n",
              "      <td>12.882500</td>\n",
              "      <td>2.190000</td>\n",
              "      <td>1.182500</td>\n",
              "      <td>72.280000</td>\n",
              "      <td>0.142500</td>\n",
              "      <td>8.24000</td>\n",
              "      <td>0.000000</td>\n",
              "      <td>0.000000</td>\n",
              "    </tr>\n",
              "    <tr>\n",
              "      <th>50%</th>\n",
              "      <td>103.000000</td>\n",
              "      <td>1.517660</td>\n",
              "      <td>13.280000</td>\n",
              "      <td>3.480000</td>\n",
              "      <td>1.350000</td>\n",
              "      <td>72.810000</td>\n",
              "      <td>0.560000</td>\n",
              "      <td>8.60000</td>\n",
              "      <td>0.000000</td>\n",
              "      <td>0.000000</td>\n",
              "    </tr>\n",
              "    <tr>\n",
              "      <th>75%</th>\n",
              "      <td>161.000000</td>\n",
              "      <td>1.519160</td>\n",
              "      <td>13.877500</td>\n",
              "      <td>3.600000</td>\n",
              "      <td>1.602500</td>\n",
              "      <td>73.090000</td>\n",
              "      <td>0.610000</td>\n",
              "      <td>9.14000</td>\n",
              "      <td>0.000000</td>\n",
              "      <td>0.100000</td>\n",
              "    </tr>\n",
              "    <tr>\n",
              "      <th>max</th>\n",
              "      <td>214.000000</td>\n",
              "      <td>1.533930</td>\n",
              "      <td>17.380000</td>\n",
              "      <td>4.490000</td>\n",
              "      <td>3.500000</td>\n",
              "      <td>75.410000</td>\n",
              "      <td>6.210000</td>\n",
              "      <td>16.19000</td>\n",
              "      <td>3.150000</td>\n",
              "      <td>0.510000</td>\n",
              "    </tr>\n",
              "  </tbody>\n",
              "</table>\n",
              "</div>"
            ],
            "text/plain": [
              "        ID number          RI          Na  ...         Ca          Ba          Fe\n",
              "count  181.000000  181.000000  190.000000  ...  181.00000  190.000000  184.000000\n",
              "mean   105.872928    1.518376   13.411211  ...    8.96011    0.165632    0.059293\n",
              "std     62.777830    0.003131    0.832024  ...    1.44354    0.471541    0.099414\n",
              "min      1.000000    1.511150   10.730000  ...    5.43000    0.000000    0.000000\n",
              "25%     52.000000    1.516520   12.882500  ...    8.24000    0.000000    0.000000\n",
              "50%    103.000000    1.517660   13.280000  ...    8.60000    0.000000    0.000000\n",
              "75%    161.000000    1.519160   13.877500  ...    9.14000    0.000000    0.100000\n",
              "max    214.000000    1.533930   17.380000  ...   16.19000    3.150000    0.510000\n",
              "\n",
              "[8 rows x 10 columns]"
            ]
          },
          "metadata": {
            "tags": []
          },
          "execution_count": 20
        }
      ]
    },
    {
      "cell_type": "code",
      "metadata": {
        "colab": {
          "base_uri": "https://localhost:8080/",
          "height": 256
        },
        "id": "hhukW46Cvcwc",
        "outputId": "8f2120b1-76e2-43eb-f809-3e82e67780a4"
      },
      "source": [
        "display(data['Type of glass'].describe())\r\n",
        "print(\"^^^^^^^^^^^^^^^^^^^^^^^^^^^^^^^^^^^^^^^^^^^^^^^^^^^^^^^^^^^^^^^^^^^\")\r\n",
        "display(data['Type of glass'].value_counts())"
      ],
      "execution_count": 25,
      "outputs": [
        {
          "output_type": "display_data",
          "data": {
            "text/plain": [
              "count                                      179\n",
              "unique                                       6\n",
              "top       building_windows_non_float_processed\n",
              "freq                                        62\n",
              "Name: Type of glass, dtype: object"
            ]
          },
          "metadata": {
            "tags": []
          }
        },
        {
          "output_type": "stream",
          "text": [
            "^^^^^^^^^^^^^^^^^^^^^^^^^^^^^^^^^^^^^^^^^^^^^^^^^^^^^^^^^^^^^^^^^^^\n"
          ],
          "name": "stdout"
        },
        {
          "output_type": "display_data",
          "data": {
            "text/plain": [
              "building_windows_non_float_processed    62\n",
              "building_windows_float_processed        56\n",
              "headlamps                               26\n",
              "vehicle_windows_float_processed         14\n",
              "containers                              13\n",
              "tableware                                8\n",
              "Name: Type of glass, dtype: int64"
            ]
          },
          "metadata": {
            "tags": []
          }
        }
      ]
    }
  ]
}